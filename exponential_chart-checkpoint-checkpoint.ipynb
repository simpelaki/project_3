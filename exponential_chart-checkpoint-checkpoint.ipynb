{
 "cells": [
  {
   "cell_type": "code",
   "execution_count": 67,
   "metadata": {},
   "outputs": [],
   "source": [
    "# Dependencies and Setup\n",
    "import csv\n",
    "import pandas as pd"
   ]
  },
  {
   "cell_type": "code",
   "execution_count": 68,
   "metadata": {},
   "outputs": [],
   "source": [
    "# Read csv data and save as dataframe\n",
    "df = pd.read_csv('https://raw.githubusercontent.com/simpelaki/project_3/main/static/resources/cleaned.csv')"
   ]
  },
  {
   "cell_type": "code",
   "execution_count": 69,
   "metadata": {},
   "outputs": [
    {
     "data": {
      "text/html": [
       "<div>\n",
       "<style scoped>\n",
       "    .dataframe tbody tr th:only-of-type {\n",
       "        vertical-align: middle;\n",
       "    }\n",
       "\n",
       "    .dataframe tbody tr th {\n",
       "        vertical-align: top;\n",
       "    }\n",
       "\n",
       "    .dataframe thead th {\n",
       "        text-align: right;\n",
       "    }\n",
       "</style>\n",
       "<table border=\"1\" class=\"dataframe\">\n",
       "  <thead>\n",
       "    <tr style=\"text-align: right;\">\n",
       "      <th></th>\n",
       "      <th>Ranking</th>\n",
       "      <th>City</th>\n",
       "      <th>Country</th>\n",
       "      <th>Lat</th>\n",
       "      <th>Lng</th>\n",
       "      <th>Avg_WiFi_Speed(Mbps)</th>\n",
       "      <th>No._Co-working_Spaces</th>\n",
       "      <th>Avg_Coffee($)</th>\n",
       "      <th>Avg_Taxi($/km)</th>\n",
       "      <th>Avg_Beer($/2)</th>\n",
       "      <th>Avg_Rent_1BR($/mo)</th>\n",
       "      <th>Avg_Restaurant($)</th>\n",
       "      <th>Avg_Sunshine(hr/yr)</th>\n",
       "      <th>No.TripAdvisor_Attractions</th>\n",
       "      <th>No.Instagram_#Photos</th>\n",
       "    </tr>\n",
       "  </thead>\n",
       "  <tbody>\n",
       "    <tr>\n",
       "      <th>0</th>\n",
       "      <td>1</td>\n",
       "      <td>Bangkok</td>\n",
       "      <td>Thailand</td>\n",
       "      <td>13.752494</td>\n",
       "      <td>100.493509</td>\n",
       "      <td>28</td>\n",
       "      <td>117</td>\n",
       "      <td>1.69</td>\n",
       "      <td>0.89</td>\n",
       "      <td>3.34</td>\n",
       "      <td>449.93</td>\n",
       "      <td>1.67</td>\n",
       "      <td>2624</td>\n",
       "      <td>2262</td>\n",
       "      <td>28386616</td>\n",
       "    </tr>\n",
       "    <tr>\n",
       "      <th>1</th>\n",
       "      <td>2</td>\n",
       "      <td>New Delhi</td>\n",
       "      <td>India</td>\n",
       "      <td>28.613895</td>\n",
       "      <td>77.209006</td>\n",
       "      <td>12</td>\n",
       "      <td>165</td>\n",
       "      <td>1.54</td>\n",
       "      <td>0.21</td>\n",
       "      <td>3.14</td>\n",
       "      <td>194.25</td>\n",
       "      <td>3.14</td>\n",
       "      <td>2685</td>\n",
       "      <td>2019</td>\n",
       "      <td>28528249</td>\n",
       "    </tr>\n",
       "    <tr>\n",
       "      <th>2</th>\n",
       "      <td>3</td>\n",
       "      <td>Lisbon</td>\n",
       "      <td>Portugal</td>\n",
       "      <td>38.707751</td>\n",
       "      <td>-9.136592</td>\n",
       "      <td>33</td>\n",
       "      <td>95</td>\n",
       "      <td>1.69</td>\n",
       "      <td>0.43</td>\n",
       "      <td>3.71</td>\n",
       "      <td>797.81</td>\n",
       "      <td>8.33</td>\n",
       "      <td>2806</td>\n",
       "      <td>1969</td>\n",
       "      <td>10205538</td>\n",
       "    </tr>\n",
       "    <tr>\n",
       "      <th>3</th>\n",
       "      <td>4</td>\n",
       "      <td>Barcelona</td>\n",
       "      <td>Spain</td>\n",
       "      <td>41.382894</td>\n",
       "      <td>2.177432</td>\n",
       "      <td>37</td>\n",
       "      <td>136</td>\n",
       "      <td>1.72</td>\n",
       "      <td>1.09</td>\n",
       "      <td>5.55</td>\n",
       "      <td>832.78</td>\n",
       "      <td>11.11</td>\n",
       "      <td>2591</td>\n",
       "      <td>2739</td>\n",
       "      <td>62894055</td>\n",
       "    </tr>\n",
       "    <tr>\n",
       "      <th>4</th>\n",
       "      <td>5</td>\n",
       "      <td>Buenos Aires</td>\n",
       "      <td>Argentina</td>\n",
       "      <td>-34.607568</td>\n",
       "      <td>-58.437089</td>\n",
       "      <td>17</td>\n",
       "      <td>67</td>\n",
       "      <td>1.32</td>\n",
       "      <td>0.51</td>\n",
       "      <td>2.34</td>\n",
       "      <td>248.76</td>\n",
       "      <td>5.58</td>\n",
       "      <td>2525</td>\n",
       "      <td>1660</td>\n",
       "      <td>21293975</td>\n",
       "    </tr>\n",
       "  </tbody>\n",
       "</table>\n",
       "</div>"
      ],
      "text/plain": [
       "   Ranking          City    Country        Lat         Lng  \\\n",
       "0        1       Bangkok   Thailand  13.752494  100.493509   \n",
       "1        2     New Delhi      India  28.613895   77.209006   \n",
       "2        3        Lisbon   Portugal  38.707751   -9.136592   \n",
       "3        4     Barcelona      Spain  41.382894    2.177432   \n",
       "4        5  Buenos Aires  Argentina -34.607568  -58.437089   \n",
       "\n",
       "   Avg_WiFi_Speed(Mbps)  No._Co-working_Spaces  Avg_Coffee($)  Avg_Taxi($/km)  \\\n",
       "0                    28                    117           1.69            0.89   \n",
       "1                    12                    165           1.54            0.21   \n",
       "2                    33                     95           1.69            0.43   \n",
       "3                    37                    136           1.72            1.09   \n",
       "4                    17                     67           1.32            0.51   \n",
       "\n",
       "   Avg_Beer($/2)  Avg_Rent_1BR($/mo)  Avg_Restaurant($)  Avg_Sunshine(hr/yr)  \\\n",
       "0           3.34              449.93               1.67                 2624   \n",
       "1           3.14              194.25               3.14                 2685   \n",
       "2           3.71              797.81               8.33                 2806   \n",
       "3           5.55              832.78              11.11                 2591   \n",
       "4           2.34              248.76               5.58                 2525   \n",
       "\n",
       "   No.TripAdvisor_Attractions  No.Instagram_#Photos  \n",
       "0                        2262              28386616  \n",
       "1                        2019              28528249  \n",
       "2                        1969              10205538  \n",
       "3                        2739              62894055  \n",
       "4                        1660              21293975  "
      ]
     },
     "execution_count": 69,
     "metadata": {},
     "output_type": "execute_result"
    }
   ],
   "source": [
    "# Display dataframe\n",
    "df.head()"
   ]
  },
  {
   "cell_type": "code",
   "execution_count": 71,
   "metadata": {},
   "outputs": [
    {
     "data": {
      "image/png": "[encoded data removed]",
      "text/plain": [
       "<Figure size 640x480 with 1 Axes>"
      ]
     },
     "metadata": {},
     "output_type": "display_data"
    }
   ],
   "source": [
    "cities = ['New Delhi', 'Buenos Aires', 'Bangkog', 'Lisbon', 'Barcelona']\n",
    "values = [202, 258, 456, 811, 851 ]\n",
    "plt.bar(cities, values)\n",
    "plt.bar(cities, values)\n",
    "plt.title('Top 5 Cities for Workation')\n",
    "plt.ylabel('Total average cost of restaurant, beer, cofee and rent')\n",
    "plt.show()"
   ]
  },
  {
   "cell_type": "code",
   "execution_count": 44,
   "metadata": {},
   "outputs": [
    {
     "name": "stdout",
     "output_type": "stream",
     "text": [
      "Average:  114.163\n"
     ]
    }
   ],
   "source": [
    "# num_list = [1.69, 3.34, 449.93, 1.69]\n",
    "\n",
    "# average = mean(num_list)\n",
    "\n",
    "# print(\"Average: \", round(average,3))"
   ]
  },
  {
   "cell_type": "code",
   "execution_count": 46,
   "metadata": {},
   "outputs": [
    {
     "name": "stdout",
     "output_type": "stream",
     "text": [
      "456.65\n"
     ]
    }
   ],
   "source": [
    "# #Bangkog\n",
    "# my_list = [1.69, 3.34, 449.93, 1.69]\n",
    "# total = sum(my_list)\n",
    "# print(total)"
   ]
  },
  {
   "cell_type": "code",
   "execution_count": 47,
   "metadata": {
    "jupyter": {
     "outputs_hidden": true
    }
   },
   "outputs": [
    {
     "name": "stdout",
     "output_type": "stream",
     "text": [
      "202.07\n"
     ]
    }
   ],
   "source": [
    "# #New Delhi\n",
    "# my_list = [1.54, 3.14, 194.25, 3.14]\n",
    "# total = sum(my_list)\n",
    "# print(total)"
   ]
  },
  {
   "cell_type": "code",
   "execution_count": 49,
   "metadata": {},
   "outputs": [
    {
     "name": "stdout",
     "output_type": "stream",
     "text": [
      "811.54\n"
     ]
    }
   ],
   "source": [
    "# #Lisbon\n",
    "# my_list = [1.69, 3.71, 797.81, 8.33]\n",
    "# total = sum(my_list)\n",
    "# print(total)"
   ]
  },
  {
   "cell_type": "code",
   "execution_count": 50,
   "metadata": {},
   "outputs": [
    {
     "name": "stdout",
     "output_type": "stream",
     "text": [
      "851.16\n"
     ]
    }
   ],
   "source": [
    "# #Barcelona\n",
    "# my_list = [1.72, 5.55, 832.78, 11.11]\n",
    "# total = sum(my_list)\n",
    "# print(total)"
   ]
  },
  {
   "cell_type": "code",
   "execution_count": 51,
   "metadata": {},
   "outputs": [
    {
     "name": "stdout",
     "output_type": "stream",
     "text": [
      "258.0\n"
     ]
    }
   ],
   "source": [
    "# #Buenos Aires\n",
    "# my_list = [1.32, 2.34, 248.76, 5.58]\n",
    "# total = sum(my_list)\n",
    "# print(total)"
   ]
  }
 ],
 "metadata": {
  "anaconda-cloud": {},
  "kernelspec": {
   "display_name": "Python [conda env:root] *",
   "language": "python",
   "name": "conda-root-py"
  },
  "language_info": {
   "codemirror_mode": {
    "name": "ipython",
    "version": 3
   },
   "file_extension": ".py",
   "mimetype": "text/x-python",
   "name": "python",
   "nbconvert_exporter": "python",
   "pygments_lexer": "ipython3",
   "version": "3.9.13"
  }
 },
 "nbformat": 4,
 "nbformat_minor": 4
}
