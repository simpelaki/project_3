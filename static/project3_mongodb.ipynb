{
 "cells": [
  {
   "cell_type": "code",
   "execution_count": 1,
   "id": "a70778e6",
   "metadata": {},
   "outputs": [],
   "source": [
    "# Import dependencies\n",
    "from pymongo import MongoClient\n",
    "from pprint import pprint"
   ]
  },
  {
   "cell_type": "code",
   "execution_count": 2,
   "id": "ad376257",
   "metadata": {},
   "outputs": [],
   "source": [
    "# Create an instance of MongoClient\n",
    "mongo = MongoClient(port=27017)"
   ]
  },
  {
   "cell_type": "markdown",
   "id": "3d588418",
   "metadata": {},
   "source": [
    "Import the dataset with mongoimport --type json -d cities -c city --drop --jsonArray static/resources/merged.json"
   ]
  },
  {
   "cell_type": "code",
   "execution_count": 4,
   "id": "2b43b76d",
   "metadata": {},
   "outputs": [
    {
     "name": "stdout",
     "output_type": "stream",
     "text": [
      "['admin', 'autosaurus', 'cities', 'classDB', 'config', 'epa', 'fruits_db', 'gardendb', 'local', 'met', 'petsitly_marketing', 'travel_db', 'uk_food']\n"
     ]
    }
   ],
   "source": [
    "# confirm that our new database was created\n",
    "print(mongo.list_database_names())"
   ]
  },
  {
   "cell_type": "code",
   "execution_count": 5,
   "id": "3199c5c0",
   "metadata": {},
   "outputs": [],
   "source": [
    "# assign the cities database to a variable name\n",
    "db = mongo['cities']"
   ]
  },
  {
   "cell_type": "code",
   "execution_count": 6,
   "id": "df57f696",
   "metadata": {},
   "outputs": [
    {
     "name": "stdout",
     "output_type": "stream",
     "text": [
      "['city']\n"
     ]
    }
   ],
   "source": [
    "# review the collections in our new database\n",
    "print(db.list_collection_names())"
   ]
  },
  {
   "cell_type": "code",
   "execution_count": 8,
   "id": "ca1671c1",
   "metadata": {},
   "outputs": [
    {
     "name": "stdout",
     "output_type": "stream",
     "text": [
      "{'Air_Quality': '',\n",
      " 'Avg_Beer($/2)': '3.62',\n",
      " 'Avg_Coffee($)': '1.33',\n",
      " 'Avg_Rent_1BR($/mo)': '249.36',\n",
      " 'Avg_Restaurant($)': '3.16',\n",
      " 'Avg_Sunshine(hr/yr)': '2218',\n",
      " 'Avg_Taxi($/km)': '0.31',\n",
      " 'Avg_WiFi_Speed(Mbps)': '13',\n",
      " 'City': 'Istanbul',\n",
      " 'Country': 'Turkey',\n",
      " 'Lat': '41.0091982',\n",
      " 'Lng': '28.9662187',\n",
      " 'No.Instagram_#Photos': '116213193',\n",
      " 'No.TripAdvisor_Attractions': '2088',\n",
      " 'No._Co-working_Spaces': '69',\n",
      " 'Ranking': '8',\n",
      " 'Water_Pollution': '',\n",
      " '_id': ObjectId('6424e056198fc69d0d39c842')}\n"
     ]
    }
   ],
   "source": [
    "# review a document in the city collection\n",
    "pprint(db.city.find_one())"
   ]
  },
  {
   "cell_type": "code",
   "execution_count": 9,
   "id": "5e249e6d",
   "metadata": {},
   "outputs": [],
   "source": [
    "# assign the collection to a variable\n",
    "city = db['city']  "
   ]
  },
  {
   "cell_type": "code",
   "execution_count": 10,
   "id": "025d3619",
   "metadata": {},
   "outputs": [
    {
     "name": "stdout",
     "output_type": "stream",
     "text": [
      "{'Air_Quality': '57.43243243',\n",
      " 'Avg_Beer($/2)': '3.77',\n",
      " 'Avg_Coffee($)': '1.86',\n",
      " 'Avg_Rent_1BR($/mo)': '451.99',\n",
      " 'Avg_Restaurant($)': '5.65',\n",
      " 'Avg_Sunshine(hr/yr)': '2081',\n",
      " 'Avg_Taxi($/km)': '0.81',\n",
      " 'Avg_WiFi_Speed(Mbps)': '10',\n",
      " 'City': 'San Jose',\n",
      " 'Country': 'Costa Rica',\n",
      " 'Lat': '9.9281',\n",
      " 'Lng': '-84.0907',\n",
      " 'No.Instagram_#Photos': '5084798',\n",
      " 'No.TripAdvisor_Attractions': '305',\n",
      " 'No._Co-working_Spaces': '17',\n",
      " 'Ranking': '115',\n",
      " 'Water_Pollution': '46.09375',\n",
      " '_id': ObjectId('6424e056198fc69d0d39c8b5')}\n"
     ]
    }
   ],
   "source": [
    "# Check for the city San Jose\n",
    "query = {\"City\":\"San Jose\"}\n",
    "\n",
    "results = city.find(query)\n",
    "\n",
    "for result in results:\n",
    "    pprint(result)"
   ]
  },
  {
   "cell_type": "code",
   "execution_count": 15,
   "id": "c94c03fa",
   "metadata": {},
   "outputs": [
    {
     "data": {
      "text/plain": [
       "147"
      ]
     },
     "execution_count": 15,
     "metadata": {},
     "output_type": "execute_result"
    }
   ],
   "source": [
    "# Find how many documents are in the collection\n",
    "city.estimated_document_count()"
   ]
  },
  {
   "cell_type": "code",
   "execution_count": null,
   "id": "e70bae52",
   "metadata": {},
   "outputs": [],
   "source": []
  }
 ],
 "metadata": {
  "kernelspec": {
   "display_name": "PythonData",
   "language": "python",
   "name": "pythondata"
  },
  "language_info": {
   "codemirror_mode": {
    "name": "ipython",
    "version": 3
   },
   "file_extension": ".py",
   "mimetype": "text/x-python",
   "name": "python",
   "nbconvert_exporter": "python",
   "pygments_lexer": "ipython3",
   "version": "3.7.15"
  }
 },
 "nbformat": 4,
 "nbformat_minor": 5
}
