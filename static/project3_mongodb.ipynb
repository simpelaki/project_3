{
 "cells": [
  {
   "cell_type": "code",
   "execution_count": 1,
   "id": "a70778e6",
   "metadata": {},
   "outputs": [],
   "source": [
    "# Import dependencies\n",
    "from pymongo import MongoClient\n",
    "from pprint import pprint"
   ]
  },
  {
   "cell_type": "code",
   "execution_count": 2,
   "id": "ad376257",
   "metadata": {},
   "outputs": [],
   "source": [
    "# Create an instance of MongoClient\n",
    "mongo = MongoClient(port=27017)"
   ]
  },
  {
   "cell_type": "markdown",
   "id": "3d588418",
   "metadata": {},
   "source": [
    "Import the dataset with mongoimport --type json -d cities -c city --drop --jsonArray static/resources/merged.json"
   ]
  },
  {
   "cell_type": "code",
   "execution_count": 4,
   "id": "2b43b76d",
   "metadata": {},
   "outputs": [
    {
     "name": "stdout",
     "output_type": "stream",
     "text": [
      "['admin', 'autosaurus', 'cities', 'classDB', 'config', 'epa', 'fruits_db', 'gardendb', 'local', 'met', 'petsitly_marketing', 'travel_db', 'uk_food']\n"
     ]
    }
   ],
   "source": [
    "# confirm that our new database was created\n",
    "print(mongo.list_database_names())"
   ]
  },
  {
   "cell_type": "code",
   "execution_count": 5,
   "id": "3199c5c0",
   "metadata": {},
   "outputs": [],
   "source": [
    "# assign the cities database to a variable name\n",
    "db = mongo['cities']"
   ]
  },
  {
   "cell_type": "code",
   "execution_count": 9,
   "id": "5e249e6d",
   "metadata": {},
   "outputs": [],
   "source": [
    "# assign the collection to a variable\n",
    "city = db['city']  "
   ]
  },
  {
   "cell_type": "code",
   "execution_count": 15,
   "id": "c94c03fa",
   "metadata": {},
   "outputs": [
    {
     "data": {
      "text/plain": [
       "147"
      ]
     },
     "execution_count": 15,
     "metadata": {},
     "output_type": "execute_result"
    }
   ],
   "source": [
    "# Find how many documents are in the collection\n",
    "# city.estimated_document_count()"
   ]
  },
  {
   "cell_type": "code",
   "execution_count": null,
   "id": "e70bae52",
   "metadata": {},
   "outputs": [],
   "source": []
  }
 ],
 "metadata": {
  "kernelspec": {
   "display_name": "PythonData",
   "language": "python",
   "name": "pythondata"
  },
  "language_info": {
   "codemirror_mode": {
    "name": "ipython",
    "version": 3
   },
   "file_extension": ".py",
   "mimetype": "text/x-python",
   "name": "python",
   "nbconvert_exporter": "python",
   "pygments_lexer": "ipython3",
   "version": "3.7.15"
  }
 },
 "nbformat": 4,
 "nbformat_minor": 5
}
